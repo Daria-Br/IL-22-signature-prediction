{
 "cells": [
  {
   "cell_type": "code",
   "execution_count": 1,
   "metadata": {},
   "outputs": [
    {
     "name": "stderr",
     "output_type": "stream",
     "text": [
      "Using TensorFlow backend.\n"
     ]
    }
   ],
   "source": [
    "from tensorflow.keras import Sequential\n",
    "from tensorflow.keras.layers import Dense\n",
    "from tensorflow.keras.layers import Dropout\n",
    "from tensorflow.keras.regularizers  import l2 \n",
    "from keras import backend as K\n",
    "from tensorflow.python.client import device_lib\n",
    "# print(device_lib.list_local_devices())"
   ]
  },
  {
   "cell_type": "code",
   "execution_count": 2,
   "metadata": {},
   "outputs": [],
   "source": [
    "import numpy as np\n",
    "import pandas as pd\n",
    "import seaborn as sns\n",
    "import matplotlib.pyplot as plt\n",
    "%matplotlib inline\n",
    "\n",
    "# Import libraries for data wrangling, preprocessing and visualization\n",
    "import numpy \n",
    "import pandas as pd\n",
    "import matplotlib.pyplot as plt\n",
    "import seaborn as sns\n",
    "%matplotlib inline\n",
    "from sklearn.model_selection import train_test_split\n",
    "from sklearn.preprocessing import LabelEncoder\n",
    "from sklearn.preprocessing import StandardScaler\n",
    "from sklearn.pipeline import Pipeline\n",
    "# Importing libraries for building the neural network\n",
    "from tensorflow.keras.models import Sequential\n",
    "from tensorflow.keras.layers import Dense\n",
    "from tensorflow.keras.wrappers.scikit_learn import KerasClassifier\n",
    "from sklearn.model_selection import StratifiedKFold\n",
    "from sklearn.model_selection import cross_val_score"
   ]
  },
  {
   "cell_type": "code",
   "execution_count": 3,
   "metadata": {},
   "outputs": [],
   "source": [
    "schema = {\n",
    "    'sample':               str,\n",
    "    'tumor type':              str,\n",
    "    'PVR'      :           np.float64,\n",
    "    'IL10RB'  :             np.float64,\n",
    "    'IL22RA1' :             np.float64,\n",
    "    'IL22RA2'  :            np.float64,\n",
    "    'IL22':                 np.float64,\n",
    "    'OS.time'   :          np.float64,\n",
    "    'OS'       :           str,\n",
    "    'pathologic_stage'  :   str\n",
    "}"
   ]
  },
  {
   "cell_type": "code",
   "execution_count": 4,
   "metadata": {},
   "outputs": [],
   "source": [
    "data = pd.read_csv('../data/TCGA_data_IL-22_gene_signature.csv', sep=';', decimal=\",\", na_values=('na',), dtype=schema)\n",
    "data = data.dropna()"
   ]
  },
  {
   "cell_type": "code",
   "execution_count": 5,
   "metadata": {},
   "outputs": [
    {
     "data": {
      "text/html": [
       "<div>\n",
       "<style scoped>\n",
       "    .dataframe tbody tr th:only-of-type {\n",
       "        vertical-align: middle;\n",
       "    }\n",
       "\n",
       "    .dataframe tbody tr th {\n",
       "        vertical-align: top;\n",
       "    }\n",
       "\n",
       "    .dataframe thead th {\n",
       "        text-align: right;\n",
       "    }\n",
       "</style>\n",
       "<table border=\"1\" class=\"dataframe\">\n",
       "  <thead>\n",
       "    <tr style=\"text-align: right;\">\n",
       "      <th></th>\n",
       "      <th>sample</th>\n",
       "      <th>tumor type</th>\n",
       "      <th>PVR</th>\n",
       "      <th>IL10RB</th>\n",
       "      <th>IL22RA1</th>\n",
       "      <th>IL22RA2</th>\n",
       "      <th>IL22</th>\n",
       "      <th>OS.time</th>\n",
       "      <th>OS</th>\n",
       "      <th>pathologic_stage</th>\n",
       "    </tr>\n",
       "  </thead>\n",
       "  <tbody>\n",
       "    <tr>\n",
       "      <th>7</th>\n",
       "      <td>TCGA-S5-A6DX</td>\n",
       "      <td>BLCA (BLADDER)</td>\n",
       "      <td>11.91</td>\n",
       "      <td>10.15</td>\n",
       "      <td>6.001</td>\n",
       "      <td>2.689</td>\n",
       "      <td>0.8304</td>\n",
       "      <td>56.0</td>\n",
       "      <td>1</td>\n",
       "      <td>Stage IV</td>\n",
       "    </tr>\n",
       "    <tr>\n",
       "      <th>18</th>\n",
       "      <td>TCGA-GU-A766</td>\n",
       "      <td>BLCA (BLADDER)</td>\n",
       "      <td>11.36</td>\n",
       "      <td>10.45</td>\n",
       "      <td>7.823</td>\n",
       "      <td>2.742</td>\n",
       "      <td>3.7750</td>\n",
       "      <td>480.0</td>\n",
       "      <td>0</td>\n",
       "      <td>Stage II</td>\n",
       "    </tr>\n",
       "  </tbody>\n",
       "</table>\n",
       "</div>"
      ],
      "text/plain": [
       "          sample      tumor type    PVR  IL10RB  IL22RA1  IL22RA2    IL22  \\\n",
       "7   TCGA-S5-A6DX  BLCA (BLADDER)  11.91   10.15    6.001    2.689  0.8304   \n",
       "18  TCGA-GU-A766  BLCA (BLADDER)  11.36   10.45    7.823    2.742  3.7750   \n",
       "\n",
       "    OS.time OS pathologic_stage  \n",
       "7      56.0  1         Stage IV  \n",
       "18    480.0  0         Stage II  "
      ]
     },
     "execution_count": 5,
     "metadata": {},
     "output_type": "execute_result"
    }
   ],
   "source": [
    "data.head(2)"
   ]
  },
  {
   "cell_type": "code",
   "execution_count": 6,
   "metadata": {},
   "outputs": [
    {
     "data": {
      "text/html": [
       "<div>\n",
       "<style scoped>\n",
       "    .dataframe tbody tr th:only-of-type {\n",
       "        vertical-align: middle;\n",
       "    }\n",
       "\n",
       "    .dataframe tbody tr th {\n",
       "        vertical-align: top;\n",
       "    }\n",
       "\n",
       "    .dataframe thead th {\n",
       "        text-align: right;\n",
       "    }\n",
       "</style>\n",
       "<table border=\"1\" class=\"dataframe\">\n",
       "  <thead>\n",
       "    <tr style=\"text-align: right;\">\n",
       "      <th></th>\n",
       "      <th>sample</th>\n",
       "      <th>tumor type</th>\n",
       "      <th>PVR</th>\n",
       "      <th>IL10RB</th>\n",
       "      <th>IL22RA1</th>\n",
       "      <th>IL22RA2</th>\n",
       "      <th>IL22</th>\n",
       "      <th>OS.time</th>\n",
       "      <th>OS</th>\n",
       "      <th>pathologic_stage</th>\n",
       "    </tr>\n",
       "  </thead>\n",
       "  <tbody>\n",
       "    <tr>\n",
       "      <th>count</th>\n",
       "      <td>737</td>\n",
       "      <td>737</td>\n",
       "      <td>737.000000</td>\n",
       "      <td>737.000000</td>\n",
       "      <td>737.000000</td>\n",
       "      <td>737.000000</td>\n",
       "      <td>737.000000</td>\n",
       "      <td>737.000000</td>\n",
       "      <td>737</td>\n",
       "      <td>737</td>\n",
       "    </tr>\n",
       "    <tr>\n",
       "      <th>unique</th>\n",
       "      <td>726</td>\n",
       "      <td>13</td>\n",
       "      <td>NaN</td>\n",
       "      <td>NaN</td>\n",
       "      <td>NaN</td>\n",
       "      <td>NaN</td>\n",
       "      <td>NaN</td>\n",
       "      <td>NaN</td>\n",
       "      <td>2</td>\n",
       "      <td>20</td>\n",
       "    </tr>\n",
       "    <tr>\n",
       "      <th>top</th>\n",
       "      <td>TCGA-KP-A3W1</td>\n",
       "      <td>HNSC (HEAD AND NECK)</td>\n",
       "      <td>NaN</td>\n",
       "      <td>NaN</td>\n",
       "      <td>NaN</td>\n",
       "      <td>NaN</td>\n",
       "      <td>NaN</td>\n",
       "      <td>NaN</td>\n",
       "      <td>0</td>\n",
       "      <td>Stage IVA</td>\n",
       "    </tr>\n",
       "    <tr>\n",
       "      <th>freq</th>\n",
       "      <td>2</td>\n",
       "      <td>147</td>\n",
       "      <td>NaN</td>\n",
       "      <td>NaN</td>\n",
       "      <td>NaN</td>\n",
       "      <td>NaN</td>\n",
       "      <td>NaN</td>\n",
       "      <td>NaN</td>\n",
       "      <td>492</td>\n",
       "      <td>85</td>\n",
       "    </tr>\n",
       "    <tr>\n",
       "      <th>mean</th>\n",
       "      <td>NaN</td>\n",
       "      <td>NaN</td>\n",
       "      <td>10.405282</td>\n",
       "      <td>10.063114</td>\n",
       "      <td>7.903316</td>\n",
       "      <td>3.170843</td>\n",
       "      <td>1.119251</td>\n",
       "      <td>894.746269</td>\n",
       "      <td>NaN</td>\n",
       "      <td>NaN</td>\n",
       "    </tr>\n",
       "    <tr>\n",
       "      <th>std</th>\n",
       "      <td>NaN</td>\n",
       "      <td>NaN</td>\n",
       "      <td>0.786878</td>\n",
       "      <td>0.522410</td>\n",
       "      <td>2.203234</td>\n",
       "      <td>1.737911</td>\n",
       "      <td>0.966700</td>\n",
       "      <td>815.515736</td>\n",
       "      <td>NaN</td>\n",
       "      <td>NaN</td>\n",
       "    </tr>\n",
       "    <tr>\n",
       "      <th>min</th>\n",
       "      <td>NaN</td>\n",
       "      <td>NaN</td>\n",
       "      <td>7.601000</td>\n",
       "      <td>8.242000</td>\n",
       "      <td>0.000000</td>\n",
       "      <td>0.313500</td>\n",
       "      <td>0.275400</td>\n",
       "      <td>0.000000</td>\n",
       "      <td>NaN</td>\n",
       "      <td>NaN</td>\n",
       "    </tr>\n",
       "    <tr>\n",
       "      <th>25%</th>\n",
       "      <td>NaN</td>\n",
       "      <td>NaN</td>\n",
       "      <td>9.948000</td>\n",
       "      <td>9.736000</td>\n",
       "      <td>6.645000</td>\n",
       "      <td>1.858000</td>\n",
       "      <td>0.512500</td>\n",
       "      <td>358.000000</td>\n",
       "      <td>NaN</td>\n",
       "      <td>NaN</td>\n",
       "    </tr>\n",
       "    <tr>\n",
       "      <th>50%</th>\n",
       "      <td>NaN</td>\n",
       "      <td>NaN</td>\n",
       "      <td>10.410000</td>\n",
       "      <td>10.100000</td>\n",
       "      <td>8.247000</td>\n",
       "      <td>2.993000</td>\n",
       "      <td>0.737800</td>\n",
       "      <td>641.000000</td>\n",
       "      <td>NaN</td>\n",
       "      <td>NaN</td>\n",
       "    </tr>\n",
       "    <tr>\n",
       "      <th>75%</th>\n",
       "      <td>NaN</td>\n",
       "      <td>NaN</td>\n",
       "      <td>10.910000</td>\n",
       "      <td>10.380000</td>\n",
       "      <td>9.607000</td>\n",
       "      <td>4.287000</td>\n",
       "      <td>1.315000</td>\n",
       "      <td>1163.000000</td>\n",
       "      <td>NaN</td>\n",
       "      <td>NaN</td>\n",
       "    </tr>\n",
       "    <tr>\n",
       "      <th>max</th>\n",
       "      <td>NaN</td>\n",
       "      <td>NaN</td>\n",
       "      <td>14.210000</td>\n",
       "      <td>11.860000</td>\n",
       "      <td>11.870000</td>\n",
       "      <td>9.643000</td>\n",
       "      <td>6.221000</td>\n",
       "      <td>4856.000000</td>\n",
       "      <td>NaN</td>\n",
       "      <td>NaN</td>\n",
       "    </tr>\n",
       "  </tbody>\n",
       "</table>\n",
       "</div>"
      ],
      "text/plain": [
       "              sample            tumor type         PVR      IL10RB  \\\n",
       "count            737                   737  737.000000  737.000000   \n",
       "unique           726                    13         NaN         NaN   \n",
       "top     TCGA-KP-A3W1  HNSC (HEAD AND NECK)         NaN         NaN   \n",
       "freq               2                   147         NaN         NaN   \n",
       "mean             NaN                   NaN   10.405282   10.063114   \n",
       "std              NaN                   NaN    0.786878    0.522410   \n",
       "min              NaN                   NaN    7.601000    8.242000   \n",
       "25%              NaN                   NaN    9.948000    9.736000   \n",
       "50%              NaN                   NaN   10.410000   10.100000   \n",
       "75%              NaN                   NaN   10.910000   10.380000   \n",
       "max              NaN                   NaN   14.210000   11.860000   \n",
       "\n",
       "           IL22RA1     IL22RA2        IL22      OS.time   OS pathologic_stage  \n",
       "count   737.000000  737.000000  737.000000   737.000000  737              737  \n",
       "unique         NaN         NaN         NaN          NaN    2               20  \n",
       "top            NaN         NaN         NaN          NaN    0        Stage IVA  \n",
       "freq           NaN         NaN         NaN          NaN  492               85  \n",
       "mean      7.903316    3.170843    1.119251   894.746269  NaN              NaN  \n",
       "std       2.203234    1.737911    0.966700   815.515736  NaN              NaN  \n",
       "min       0.000000    0.313500    0.275400     0.000000  NaN              NaN  \n",
       "25%       6.645000    1.858000    0.512500   358.000000  NaN              NaN  \n",
       "50%       8.247000    2.993000    0.737800   641.000000  NaN              NaN  \n",
       "75%       9.607000    4.287000    1.315000  1163.000000  NaN              NaN  \n",
       "max      11.870000    9.643000    6.221000  4856.000000  NaN              NaN  "
      ]
     },
     "execution_count": 6,
     "metadata": {},
     "output_type": "execute_result"
    }
   ],
   "source": [
    "data.describe(include='all')"
   ]
  },
  {
   "cell_type": "code",
   "execution_count": 7,
   "metadata": {},
   "outputs": [
    {
     "name": "stdout",
     "output_type": "stream",
     "text": [
      "<class 'pandas.core.frame.DataFrame'>\n",
      "Int64Index: 737 entries, 7 to 4844\n",
      "Data columns (total 10 columns):\n",
      " #   Column            Non-Null Count  Dtype  \n",
      "---  ------            --------------  -----  \n",
      " 0   sample            737 non-null    object \n",
      " 1   tumor type        737 non-null    object \n",
      " 2   PVR               737 non-null    float64\n",
      " 3   IL10RB            737 non-null    float64\n",
      " 4   IL22RA1           737 non-null    float64\n",
      " 5   IL22RA2           737 non-null    float64\n",
      " 6   IL22              737 non-null    float64\n",
      " 7   OS.time           737 non-null    float64\n",
      " 8   OS                737 non-null    object \n",
      " 9   pathologic_stage  737 non-null    object \n",
      "dtypes: float64(6), object(4)\n",
      "memory usage: 63.3+ KB\n"
     ]
    }
   ],
   "source": [
    "data.info()"
   ]
  },
  {
   "cell_type": "code",
   "execution_count": 8,
   "metadata": {},
   "outputs": [
    {
     "data": {
      "text/plain": [
       "array(['G2', 'G3', 'Stage I', 'Stage IA', 'Stage IB', 'Stage IB1',\n",
       "       'Stage IB2', 'Stage II', 'Stage IIA', 'Stage IIA1', 'Stage IIB',\n",
       "       'Stage IIC', 'Stage III', 'Stage IIIA', 'Stage IIIB', 'Stage IIIC',\n",
       "       'Stage IV', 'Stage IVA', 'Stage IVB', '[Discrepancy]'],\n",
       "      dtype=object)"
      ]
     },
     "execution_count": 8,
     "metadata": {},
     "output_type": "execute_result"
    }
   ],
   "source": [
    "# Convert Pathologica stages into labels\n",
    "Z = data.pathologic_stage.values\n",
    "encoder_ps = LabelEncoder()\n",
    "encoder_ps.fit(Z)\n",
    "encoded_ps = encoder_ps.transform(Z)\n",
    "encoder_ps.classes_"
   ]
  },
  {
   "cell_type": "code",
   "execution_count": 9,
   "metadata": {},
   "outputs": [
    {
     "data": {
      "text/plain": [
       "array(['BLCA (BLADDER)', 'CESC ( CERVICAL CANCER)',\n",
       "       'COADREAD (COLON AND RECTAL)', 'GLIOMA (GBMLGG)',\n",
       "       'HNSC (HEAD AND NECK)', 'KIRC (KIDNEY CLEAR CELL CARCINOMA)',\n",
       "       'LIHC (LIVER CANCER)', 'LUAD (LUNG ADENOCARCINOMA)',\n",
       "       'LUSC (LUNG SQUAMOUS)', 'PAAD (PANCREATIC)', 'STAD (STOMACH)',\n",
       "       'TNBC (TRIPLE NEG. BREAST)', 'UCEC (ENDOMETRIOID)'], dtype=object)"
      ]
     },
     "execution_count": 9,
     "metadata": {},
     "output_type": "execute_result"
    }
   ],
   "source": [
    "# Convert tumor type into labels\n",
    "R = data['tumor type'].values\n",
    "encoder_tt = LabelEncoder()\n",
    "encoder_tt.fit(R)\n",
    "encoded_tt = encoder_tt.transform(R)\n",
    "encoder_tt.classes_"
   ]
  },
  {
   "cell_type": "code",
   "execution_count": 10,
   "metadata": {},
   "outputs": [
    {
     "data": {
      "text/plain": [
       "Index(['sample', 'tumor type', 'PVR', 'IL10RB', 'IL22RA1', 'IL22RA2', 'IL22',\n",
       "       'OS.time', 'OS', 'pathologic_stage'],\n",
       "      dtype='object')"
      ]
     },
     "execution_count": 10,
     "metadata": {},
     "output_type": "execute_result"
    }
   ],
   "source": [
    "data.columns"
   ]
  },
  {
   "cell_type": "code",
   "execution_count": 11,
   "metadata": {},
   "outputs": [],
   "source": [
    "prediction_var = ['IL22', 'IL22RA1', 'IL10RB', 'IL22RA2', 'PVR', 'OS.time', 'tumor type', 'pathologic_stage']\n",
    "data.pathologic_stage = encoded_ps\n",
    "data['tumor type'] = encoded_tt"
   ]
  },
  {
   "cell_type": "code",
   "execution_count": 12,
   "metadata": {},
   "outputs": [
    {
     "data": {
      "text/plain": [
       "array([[8.304e-01, 6.001e+00, 1.015e+01, ..., 5.600e+01, 0.000e+00,\n",
       "        1.600e+01],\n",
       "       [3.775e+00, 7.823e+00, 1.045e+01, ..., 4.800e+02, 0.000e+00,\n",
       "        7.000e+00],\n",
       "       [1.398e+00, 7.556e+00, 9.648e+00, ..., 3.210e+02, 0.000e+00,\n",
       "        1.200e+01],\n",
       "       ...,\n",
       "       [6.231e-01, 2.679e+00, 9.390e+00, ..., 6.660e+02, 1.200e+01,\n",
       "        1.800e+01],\n",
       "       [1.118e+00, 2.174e+00, 9.217e+00, ..., 2.185e+03, 1.200e+01,\n",
       "        7.000e+00],\n",
       "       [5.773e-01, 6.585e+00, 8.807e+00, ..., 1.014e+03, 1.200e+01,\n",
       "        7.000e+00]])"
      ]
     },
     "execution_count": 12,
     "metadata": {},
     "output_type": "execute_result"
    }
   ],
   "source": [
    "X = data[prediction_var].values\n",
    "X"
   ]
  },
  {
   "cell_type": "code",
   "execution_count": 13,
   "metadata": {},
   "outputs": [
    {
     "data": {
      "text/plain": [
       "array([[-2.99003872e-01, -8.64006345e-01,  1.66430677e-01, ...,\n",
       "        -1.02918416e+00, -1.52516748e+00,  1.20450117e+00],\n",
       "       [ 2.74909761e+00, -3.64785109e-02,  7.41082393e-01, ...,\n",
       "        -5.08914680e-01, -1.52516748e+00, -5.34605549e-01],\n",
       "       [ 2.88547036e-01, -1.57746311e-01, -7.95153195e-01, ...,\n",
       "        -7.04015734e-01, -1.52516748e+00,  4.31564852e-01],\n",
       "       ...,\n",
       "       [-5.13590383e-01, -2.37281395e+00, -1.28935367e+00, ...,\n",
       "        -2.80683259e-01,  1.88793504e+00,  1.59096933e+00],\n",
       "       [-1.29484994e-03, -2.60217815e+00, -1.62073616e+00, ...,\n",
       "         1.58320669e+00,  1.88793504e+00, -5.34605549e-01],\n",
       "       [-5.61000234e-01, -5.98761419e-01, -2.40609351e+00, ...,\n",
       "         1.46330369e-01,  1.88793504e+00, -5.34605549e-01]])"
      ]
     },
     "execution_count": 13,
     "metadata": {},
     "output_type": "execute_result"
    }
   ],
   "source": [
    "#Feature Scaling\n",
    "from sklearn.preprocessing import StandardScaler\n",
    "sc = StandardScaler()\n",
    "data_new = sc.fit_transform(data[prediction_var])\n",
    "X = data_new\n",
    "X"
   ]
  },
  {
   "cell_type": "code",
   "execution_count": 14,
   "metadata": {},
   "outputs": [
    {
     "data": {
      "text/plain": [
       "array(['0', '1'], dtype=object)"
      ]
     },
     "execution_count": 14,
     "metadata": {},
     "output_type": "execute_result"
    }
   ],
   "source": [
    "Y = data.OS.values\n",
    "encoder = LabelEncoder()\n",
    "encoder.fit(Y)\n",
    "encoded_Y = encoder.transform(Y)\n",
    "encoder.classes_"
   ]
  },
  {
   "cell_type": "code",
   "execution_count": 15,
   "metadata": {},
   "outputs": [],
   "source": [
    "#standardizing the input feature\n",
    "from sklearn.model_selection import train_test_split\n",
    "X_train, X_test, y_train, y_test = train_test_split(X, encoded_Y, test_size=0.1, shuffle=True, random_state=543)"
   ]
  },
  {
   "cell_type": "code",
   "execution_count": 16,
   "metadata": {},
   "outputs": [],
   "source": [
    "# !pip install git+https://github.com/tensorflow/docs\n",
    "import tensorflow_docs as tfdocs\n",
    "import tensorflow_docs.modeling\n",
    "import tensorflow_docs.plots\n",
    "\n",
    "# Baseline model for the neural network. We choose a hidden layer of 10 neurons. The lesser number of neurons helps to eliminate the redundancies in the data and select the more important features.\n",
    "def create_baseline():\n",
    "    # create model\n",
    "    model = Sequential()\n",
    "    model.add(Dense(24, input_dim=8, kernel_regularizer=l2(0.01), activation='relu'))\n",
    "    model.add(Dropout(0.3, noise_shape=None, seed=None))\n",
    "    model.add(Dense(12, kernel_regularizer=l2(0.01), activation='relu'))\n",
    "    model.add(Dropout(0.3, noise_shape=None, seed=None))\n",
    "    model.add(Dense(1,  activation='sigmoid'))\n",
    "    model.compile(loss='binary_crossentropy', optimizer='adam', metrics=['acc'])\n",
    "    return model\n"
   ]
  },
  {
   "cell_type": "code",
   "execution_count": 17,
   "metadata": {},
   "outputs": [],
   "source": [
    "from sklearn.utils import class_weight\n",
    "class_weights = class_weight.compute_class_weight('balanced',\n",
    "                                                 np.unique(y_train),\n",
    "                                                 y_train)\n",
    "# class_weights = np.array([0.001, 100.])\n",
    "class_weights = {i : class_weights[i] for i in range(len(class_weights))}"
   ]
  },
  {
   "cell_type": "code",
   "execution_count": 22,
   "metadata": {
    "scrolled": true
   },
   "outputs": [
    {
     "name": "stdout",
     "output_type": "stream",
     "text": [
      "\n",
      "Epoch: 0, acc:0.5581,  loss:1.0008,  val_acc:0.6216,  val_loss:0.9212,  \n",
      "....................................................................................................\n",
      "Epoch: 100, acc:0.6667,  loss:0.6499,  val_acc:0.6622,  val_loss:0.6754,  \n",
      "...................................................................................................."
     ]
    }
   ],
   "source": [
    "classifier = create_baseline()\n",
    "history = classifier.fit(X_train,y_train, batch_size=10, epochs=200, verbose=0, callbacks=[tfdocs.modeling.EpochDots()],\n",
    "                         shuffle=True,\n",
    "                         validation_data=(X_test,y_test),\n",
    "                         class_weight=class_weights,\n",
    "                        )"
   ]
  },
  {
   "cell_type": "code",
   "execution_count": 23,
   "metadata": {},
   "outputs": [
    {
     "data": {
      "image/png": "[encoded data removed]",
      "text/plain": [
       "<Figure size 432x288 with 1 Axes>"
      ]
     },
     "metadata": {
      "needs_background": "light"
     },
     "output_type": "display_data"
    },
    {
     "data": {
      "image/png": "[encoded data removed]",
      "text/plain": [
       "<Figure size 432x288 with 1 Axes>"
      ]
     },
     "metadata": {
      "needs_background": "light"
     },
     "output_type": "display_data"
    }
   ],
   "source": [
    "import matplotlib.pyplot as plt\n",
    "\n",
    "# Plot training & validation accuracy values\n",
    "plt.plot(history.history['acc'])\n",
    "plt.plot(history.history['val_acc'])\n",
    "plt.title('Model accuracy')\n",
    "plt.ylabel('Accuracy')\n",
    "plt.xlabel('Epoch')\n",
    "\n",
    "plt.legend(['Train', 'Test'], loc='upper left')\n",
    "plt.show()\n",
    "\n",
    "# Plot training & validation loss values\n",
    "plt.plot(history.history['loss'])\n",
    "plt.plot(history.history['val_loss'])\n",
    "plt.title('Model loss')\n",
    "plt.ylabel('Loss')\n",
    "plt.xlabel('Epoch')\n",
    "plt.legend(['Train', 'Test'], loc='upper left')\n",
    "plt.show()"
   ]
  },
  {
   "cell_type": "code",
   "execution_count": 24,
   "metadata": {},
   "outputs": [],
   "source": [
    "# z = data.sample()\n",
    "# print(z.OS)\n",
    "# print(z[prediction_var].values)\n",
    "# # print(encoder_pd.transform(z._primary_disease))\n",
    "# # z._primary_disease = encoder_pd.transform(z._primary_disease)\n",
    "# # print(z[prediction_var].values)\n",
    "\n",
    "# # encoder_pd.transform\n",
    "# int(classifier.predict(z[prediction_var].values)[0])>0.5"
   ]
  },
  {
   "cell_type": "code",
   "execution_count": 25,
   "metadata": {},
   "outputs": [
    {
     "name": "stdout",
     "output_type": "stream",
     "text": [
      "### Model ###\n",
      "[[34 16]\n",
      " [ 6 18]]\n",
      "Accuracy: 70.27%\n",
      "\n",
      "### All my friends are DEAD ###\n",
      "[[50  0]\n",
      " [24  0]]\n",
      "Accuracy: 67.57%\n",
      "\n",
      "### All my friends are RANDOM ###\n",
      "[[29 21]\n",
      " [11 13]]\n",
      "Accuracy: 56.76%\n"
     ]
    }
   ],
   "source": [
    "#model\n",
    "y_pred=classifier.predict(X_test)\n",
    "y_pred = (y_pred>0.5)\n",
    "\n",
    "from sklearn.metrics import confusion_matrix\n",
    "cm = confusion_matrix(y_test, y_pred)\n",
    "print(\"### Model ###\")\n",
    "print(cm)\n",
    "print(f'Accuracy: {(cm[0][0]+cm[1][1])/len(X_test)*100:.2f}%')\n",
    "\n",
    "# All Dead\n",
    "y_pred=np.zeros((len(X_test),1),dtype=np.ndarray)\n",
    "y_pred =(y_pred>0.5)\n",
    "\n",
    "from sklearn.metrics import confusion_matrix\n",
    "cm = confusion_matrix(y_test, y_pred)\n",
    "print()\n",
    "print(\"### Assuming that *every* patient is dead ###\")\n",
    "print(cm)\n",
    "print(f'Accuracy: {(cm[0][0]+cm[1][1])/len(X_test)*100:.2f}%')\n",
    "      \n",
    "# All Random\n",
    "y_pred=np.random.rand(len(X_test),1)\n",
    "y_pred =(y_pred>0.5)\n",
    "\n",
    "from sklearn.metrics import confusion_matrix\n",
    "cm = confusion_matrix(y_test, y_pred)\n",
    "print()\n",
    "print(\"### Assi ###\")\n",
    "print(cm)\n",
    "print(f'Accuracy: {(cm[0][0]+cm[1][1])/len(X_test)*100:.2f}%')"
   ]
  },
  {
   "cell_type": "code",
   "execution_count": null,
   "metadata": {},
   "outputs": [],
   "source": []
  }
 ],
 "metadata": {
  "kernelspec": {
   "display_name": "Python 3",
   "language": "python",
   "name": "python3"
  },
  "language_info": {
   "codemirror_mode": {
    "name": "ipython",
    "version": 3
   },
   "file_extension": ".py",
   "mimetype": "text/x-python",
   "name": "python",
   "nbconvert_exporter": "python",
   "pygments_lexer": "ipython3",
   "version": "3.7.3"
  }
 },
 "nbformat": 4,
 "nbformat_minor": 4
}
